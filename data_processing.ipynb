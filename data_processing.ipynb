{
 "cells": [
  {
   "cell_type": "markdown",
   "id": "fresh-notice",
   "metadata": {},
   "source": [
    "## In this notebook I prepare the data for training "
   ]
  },
  {
   "cell_type": "code",
   "execution_count": 1,
   "id": "hourly-barrel",
   "metadata": {},
   "outputs": [],
   "source": [
    "from fastai.vision.all import *\n",
    "import pandas as pd"
   ]
  },
  {
   "cell_type": "code",
   "execution_count": 2,
   "id": "metallic-regular",
   "metadata": {},
   "outputs": [],
   "source": [
    "path = Path('/home/naji/Desktop/fastai_final_project/datasets/Udacity_Real_Data/4-raw-data/Ch2_002')"
   ]
  },
  {
   "cell_type": "markdown",
   "id": "enclosed-offer",
   "metadata": {},
   "source": [
    "In the following code I prepare Udacity dataset from Challenge #2 for tarining using fastai library. "
   ]
  },
  {
   "cell_type": "code",
   "execution_count": 3,
   "id": "adaptive-liabilities",
   "metadata": {
    "scrolled": true
   },
   "outputs": [
    {
     "data": {
      "text/plain": [
       "13203"
      ]
     },
     "execution_count": 3,
     "metadata": {},
     "output_type": "execute_result"
    }
   ],
   "source": [
    "df1= pd.read_csv(path/'HMB_1/interpolated.csv')\n",
    "len(df1)"
   ]
  },
  {
   "cell_type": "code",
   "execution_count": 4,
   "id": "copyrighted-review",
   "metadata": {},
   "outputs": [
    {
     "data": {
      "text/plain": [
       "13203"
      ]
     },
     "execution_count": 4,
     "metadata": {},
     "output_type": "execute_result"
    }
   ],
   "source": [
    "filenames_1 = ['HMB_1/'+ f for f in list(df1['filename'])]\n",
    "len(filenames_1)"
   ]
  },
  {
   "cell_type": "code",
   "execution_count": 5,
   "id": "tutorial-latex",
   "metadata": {},
   "outputs": [
    {
     "data": {
      "text/plain": [
       "13203"
      ]
     },
     "execution_count": 5,
     "metadata": {},
     "output_type": "execute_result"
    }
   ],
   "source": [
    "angles_1 = list(df1['angle'])\n",
    "len(angles_1)"
   ]
  },
  {
   "cell_type": "code",
   "execution_count": null,
   "id": "impossible-joshua",
   "metadata": {},
   "outputs": [],
   "source": []
  },
  {
   "cell_type": "code",
   "execution_count": 6,
   "id": "logical-harrison",
   "metadata": {},
   "outputs": [
    {
     "data": {
      "text/plain": [
       "47386"
      ]
     },
     "execution_count": 6,
     "metadata": {},
     "output_type": "execute_result"
    }
   ],
   "source": [
    "df2 = pd.read_csv(path/'HMB_2/interpolated.csv')\n",
    "len(df2)"
   ]
  },
  {
   "cell_type": "code",
   "execution_count": 7,
   "id": "invalid-diesel",
   "metadata": {},
   "outputs": [
    {
     "data": {
      "text/plain": [
       "47386"
      ]
     },
     "execution_count": 7,
     "metadata": {},
     "output_type": "execute_result"
    }
   ],
   "source": [
    "filenames_2 = ['HMB_2/'+ f for f in list(df2['filename'])]\n",
    "len(filenames_2)"
   ]
  },
  {
   "cell_type": "code",
   "execution_count": 8,
   "id": "undefined-integer",
   "metadata": {},
   "outputs": [
    {
     "data": {
      "text/plain": [
       "47386"
      ]
     },
     "execution_count": 8,
     "metadata": {},
     "output_type": "execute_result"
    }
   ],
   "source": [
    "angles_2 = list(df2['angle'])\n",
    "len(angles_2)"
   ]
  },
  {
   "cell_type": "code",
   "execution_count": null,
   "id": "official-baking",
   "metadata": {},
   "outputs": [],
   "source": []
  },
  {
   "cell_type": "code",
   "execution_count": 9,
   "id": "veterinary-bathroom",
   "metadata": {},
   "outputs": [
    {
     "data": {
      "text/plain": [
       "5920"
      ]
     },
     "execution_count": 9,
     "metadata": {},
     "output_type": "execute_result"
    }
   ],
   "source": [
    "df4 = pd.read_csv(path/'HMB_4/interpolated.csv')\n",
    "len(df4)"
   ]
  },
  {
   "cell_type": "code",
   "execution_count": 10,
   "id": "prescribed-conclusion",
   "metadata": {},
   "outputs": [
    {
     "data": {
      "text/plain": [
       "5920"
      ]
     },
     "execution_count": 10,
     "metadata": {},
     "output_type": "execute_result"
    }
   ],
   "source": [
    "filenames_4 = ['HMB_4/'+ f for f in list(df4['filename'])]\n",
    "len(filenames_4)"
   ]
  },
  {
   "cell_type": "code",
   "execution_count": 11,
   "id": "jewish-operation",
   "metadata": {},
   "outputs": [
    {
     "data": {
      "text/plain": [
       "5920"
      ]
     },
     "execution_count": 11,
     "metadata": {},
     "output_type": "execute_result"
    }
   ],
   "source": [
    "angles_4 = list(df4['angle'])\n",
    "len(angles_4)"
   ]
  },
  {
   "cell_type": "code",
   "execution_count": null,
   "id": "fitting-humor",
   "metadata": {},
   "outputs": [],
   "source": []
  },
  {
   "cell_type": "code",
   "execution_count": 12,
   "id": "expected-edgar",
   "metadata": {},
   "outputs": [
    {
     "data": {
      "text/plain": [
       "12705"
      ]
     },
     "execution_count": 12,
     "metadata": {},
     "output_type": "execute_result"
    }
   ],
   "source": [
    "df5 = pd.read_csv(path/'HMB_5/interpolated.csv')\n",
    "len(df5)"
   ]
  },
  {
   "cell_type": "code",
   "execution_count": 13,
   "id": "dominican-cologne",
   "metadata": {},
   "outputs": [
    {
     "data": {
      "text/plain": [
       "12705"
      ]
     },
     "execution_count": 13,
     "metadata": {},
     "output_type": "execute_result"
    }
   ],
   "source": [
    "filenames_5 = ['HMB_5/'+ f for f in list(df5['filename'])]\n",
    "len(filenames_5)"
   ]
  },
  {
   "cell_type": "code",
   "execution_count": 14,
   "id": "western-stack",
   "metadata": {},
   "outputs": [
    {
     "data": {
      "text/plain": [
       "12705"
      ]
     },
     "execution_count": 14,
     "metadata": {},
     "output_type": "execute_result"
    }
   ],
   "source": [
    "angles_5 = list(df5['angle'])\n",
    "len(angles_5)"
   ]
  },
  {
   "cell_type": "code",
   "execution_count": null,
   "id": "synthetic-zambia",
   "metadata": {},
   "outputs": [],
   "source": []
  },
  {
   "cell_type": "code",
   "execution_count": 15,
   "id": "pacific-illness",
   "metadata": {},
   "outputs": [
    {
     "data": {
      "text/plain": [
       "22182"
      ]
     },
     "execution_count": 15,
     "metadata": {},
     "output_type": "execute_result"
    }
   ],
   "source": [
    "df6 = pd.read_csv(path/'HMB_6/interpolated.csv')\n",
    "len(df6)"
   ]
  },
  {
   "cell_type": "code",
   "execution_count": 16,
   "id": "split-slovakia",
   "metadata": {},
   "outputs": [
    {
     "data": {
      "text/plain": [
       "22182"
      ]
     },
     "execution_count": 16,
     "metadata": {},
     "output_type": "execute_result"
    }
   ],
   "source": [
    "filenames_6 = ['HMB_6/'+ f for f in list(df6['filename'])]\n",
    "len(filenames_6)"
   ]
  },
  {
   "cell_type": "code",
   "execution_count": 17,
   "id": "future-affiliation",
   "metadata": {},
   "outputs": [
    {
     "data": {
      "text/plain": [
       "22182"
      ]
     },
     "execution_count": 17,
     "metadata": {},
     "output_type": "execute_result"
    }
   ],
   "source": [
    "angles_6 = list(df6['angle'])\n",
    "len(angles_6)"
   ]
  },
  {
   "cell_type": "code",
   "execution_count": null,
   "id": "hidden-aside",
   "metadata": {},
   "outputs": [],
   "source": []
  },
  {
   "cell_type": "code",
   "execution_count": 18,
   "id": "seeing-foundation",
   "metadata": {},
   "outputs": [
    {
     "data": {
      "text/plain": [
       "101396"
      ]
     },
     "execution_count": 18,
     "metadata": {},
     "output_type": "execute_result"
    }
   ],
   "source": [
    "final_names = filenames_1 + filenames_2 + filenames_4 + filenames_5 + filenames_6\n",
    "len(final_names)"
   ]
  },
  {
   "cell_type": "code",
   "execution_count": 19,
   "id": "fifty-architect",
   "metadata": {},
   "outputs": [
    {
     "data": {
      "text/plain": [
       "101396"
      ]
     },
     "execution_count": 19,
     "metadata": {},
     "output_type": "execute_result"
    }
   ],
   "source": [
    "final_angles = angles_1 + angles_2 + angles_4 + angles_5 + angles_6\n",
    "len(final_angles)"
   ]
  },
  {
   "cell_type": "code",
   "execution_count": null,
   "id": "varied-state",
   "metadata": {},
   "outputs": [],
   "source": []
  },
  {
   "cell_type": "code",
   "execution_count": 20,
   "id": "celtic-professor",
   "metadata": {
    "scrolled": false
   },
   "outputs": [
    {
     "data": {
      "text/plain": [
       "101396"
      ]
     },
     "execution_count": 20,
     "metadata": {},
     "output_type": "execute_result"
    }
   ],
   "source": [
    "final_df = pd.DataFrame({'filename': final_names, 'angle':final_angles})\n",
    "len(final_df)"
   ]
  },
  {
   "cell_type": "code",
   "execution_count": 21,
   "id": "aerial-surfing",
   "metadata": {},
   "outputs": [],
   "source": [
    "final_df.to_csv(path/'finalInterpolated.csv')"
   ]
  },
  {
   "cell_type": "code",
   "execution_count": null,
   "id": "colonial-discount",
   "metadata": {},
   "outputs": [],
   "source": []
  }
 ],
 "metadata": {
  "kernelspec": {
   "display_name": "Python 3",
   "language": "python",
   "name": "python3"
  },
  "language_info": {
   "codemirror_mode": {
    "name": "ipython",
    "version": 3
   },
   "file_extension": ".py",
   "mimetype": "text/x-python",
   "name": "python",
   "nbconvert_exporter": "python",
   "pygments_lexer": "ipython3",
   "version": "3.8.8"
  }
 },
 "nbformat": 4,
 "nbformat_minor": 5
}
