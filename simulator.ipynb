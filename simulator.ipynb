{
 "cells": [
  {
   "cell_type": "markdown",
   "id": "joined-chinese",
   "metadata": {},
   "source": [
    "## In this notebook I replicate Comma.ai Simulator"
   ]
  },
  {
   "cell_type": "code",
   "execution_count": 1,
   "id": "bb16e146",
   "metadata": {},
   "outputs": [
    {
     "name": "stdout",
     "output_type": "stream",
     "text": [
      "pygame 2.0.1 (SDL 2.0.14, Python 3.9.5)\n",
      "Hello from the pygame community. https://www.pygame.org/contribute.html\n"
     ]
    }
   ],
   "source": [
    "import sys\n",
    "import numpy as np\n",
    "import pygame"
   ]
  },
  {
   "cell_type": "code",
   "execution_count": 2,
   "id": "cb2b381c",
   "metadata": {
    "scrolled": true
   },
   "outputs": [],
   "source": [
    "import cv2\n",
    "import glob\n",
    "import pandas as pd"
   ]
  },
  {
   "cell_type": "code",
   "execution_count": 3,
   "id": "be4e2f9f",
   "metadata": {},
   "outputs": [],
   "source": [
    "import random"
   ]
  },
  {
   "cell_type": "code",
   "execution_count": 4,
   "id": "095fd27d",
   "metadata": {},
   "outputs": [],
   "source": [
    "path = '/home/naji/Desktop/fastai_final_project/datasets/Udacity_Real_Data/4-raw-data/Ch2_001/'"
   ]
  },
  {
   "cell_type": "markdown",
   "id": "112a4316",
   "metadata": {},
   "source": [
    "### Get perspective transform for images"
   ]
  },
  {
   "cell_type": "code",
   "execution_count": 5,
   "id": "777cac1b",
   "metadata": {
    "scrolled": true
   },
   "outputs": [],
   "source": [
    "from skimage import transform as tf"
   ]
  },
  {
   "cell_type": "code",
   "execution_count": 6,
   "id": "f635a386",
   "metadata": {},
   "outputs": [],
   "source": [
    "rsrc = [  [43.45456230828867, 118.00743250075844],\n",
    "          [104.5055617352614, 69.46865203761757],\n",
    "          [114.86050156739812, 60.83953551083698],\n",
    "          [129.74572757609468, 50.48459567870026],\n",
    "          [132.98164627363735, 46.38576532847949],\n",
    "          [301.0336906326895, 98.16046448916306],\n",
    "          [238.25686790036065, 62.56535881619311],\n",
    "          [227.2547443287154, 56.30924933427718],\n",
    "          [209.13359962247614, 46.817221154818526],\n",
    "          [203.9561297064078, 43.5813024572758]]"
   ]
  },
  {
   "cell_type": "code",
   "execution_count": 7,
   "id": "62c8c43c",
   "metadata": {},
   "outputs": [],
   "source": [
    "rdst = [  [10.822125594094452, 1.42189132706374],\n",
    "          [21.177065426231174, 1.5297552836484982],\n",
    "          [25.275895776451954, 1.42189132706374],\n",
    "          [36.062291434927694, 1.6376192402332563],\n",
    "          [40.376849698318004, 1.42189132706374],\n",
    "          [11.900765159942026, -2.1376192402332563],\n",
    "          [22.25570499207874, -2.1376192402332563],\n",
    "          [26.785991168638553, -2.029755283648498],\n",
    "          [37.033067044190524, -2.029755283648498],\n",
    "          [41.67121717733509, -2.029755283648498]]"
   ]
  },
  {
   "cell_type": "code",
   "execution_count": 8,
   "id": "a6731a2a",
   "metadata": {},
   "outputs": [],
   "source": [
    "tform3_img = tf.ProjectiveTransform()"
   ]
  },
  {
   "cell_type": "code",
   "execution_count": 9,
   "id": "5e724e6d",
   "metadata": {},
   "outputs": [
    {
     "data": {
      "text/plain": [
       "True"
      ]
     },
     "execution_count": 9,
     "metadata": {},
     "output_type": "execute_result"
    }
   ],
   "source": [
    "tform3_img.estimate(np.array(rdst), np.array(rsrc))"
   ]
  },
  {
   "cell_type": "code",
   "execution_count": 10,
   "id": "ba379d13",
   "metadata": {},
   "outputs": [],
   "source": [
    "def perspective_tform(x, y):\n",
    "    p1, p2 = tform3_img((x,y))[0]\n",
    "    return p2, p1"
   ]
  },
  {
   "cell_type": "markdown",
   "id": "b0622088",
   "metadata": {},
   "source": [
    "### Functions to draw lines "
   ]
  },
  {
   "cell_type": "code",
   "execution_count": 11,
   "id": "55e9a6f1",
   "metadata": {},
   "outputs": [],
   "source": [
    "def draw_pt(img, x, y, color, sz=1):\n",
    "    row, col = perspective_tform(x, y)\n",
    "    row = int(row)\n",
    "    col = int(col)\n",
    "    if row >= 0 and row < img.shape[0] and col >= 0 and col < img.shape[1]:\n",
    "        img[row-sz:row+sz, col-sz:col+sz] = color"
   ]
  },
  {
   "cell_type": "code",
   "execution_count": 12,
   "id": "bb40dcfb",
   "metadata": {},
   "outputs": [],
   "source": [
    "def draw_path(img, path_x, path_y, color):\n",
    "    for x, y in zip(path_x, path_y):\n",
    "        draw_pt(img, x, y, color)"
   ]
  },
  {
   "cell_type": "markdown",
   "id": "b8e1d7f3",
   "metadata": {},
   "source": [
    "### Functions to draw predicted path "
   ]
  },
  {
   "cell_type": "code",
   "execution_count": 13,
   "id": "8579e559",
   "metadata": {},
   "outputs": [],
   "source": [
    "def calc_curvature(v_ego, angle_steers, angle_offset=0):\n",
    "    deg_to_rad = np.pi/180.\n",
    "    slip_fator = 0.0014 # slip factor obtained from real data\n",
    "    steer_ratio = 15.3  # from http://www.edmunds.com/acura/ilx/2016/road-test-specs/\n",
    "    wheel_base = 2.67   # from http://www.edmunds.com/acura/ilx/2016/sedan/features-specs/\n",
    "\n",
    "    angle_steers_rad = (angle_steers - angle_offset) * deg_to_rad\n",
    "    curvature = angle_steers_rad/(steer_ratio * wheel_base * (1. + slip_fator * v_ego**2))\n",
    "    return curvature"
   ]
  },
  {
   "cell_type": "code",
   "execution_count": 14,
   "id": "24a8d8e3",
   "metadata": {},
   "outputs": [],
   "source": [
    "#*** this function returns the lateral offset given the steering angle, speed and the lookahead distance\n",
    "def calc_lookahead_offset(v_ego, angle_steers, d_lookahead, angle_offset=0):\n",
    "    curvature = calc_curvature(v_ego, angle_steers, angle_offset)\n",
    "    # clip is to avoid arcsin NaNs due to too sharp turns\n",
    "    y_actual = d_lookahead * np.tan(np.arcsin(np.clip(d_lookahead * curvature, -0.999, 0.999))/2.)\n",
    "    return y_actual, curvature"
   ]
  },
  {
   "cell_type": "code",
   "execution_count": 15,
   "id": "467b7d53",
   "metadata": {},
   "outputs": [],
   "source": [
    "def draw_path_on(img, speed_ms, angle_steers, color=(0,0,255)):\n",
    "    path_x = np.arange(0., 50.1, 0.5)\n",
    "    path_y, _ = calc_lookahead_offset(speed_ms, angle_steers, path_x)\n",
    "    draw_path(img, path_x, path_y, color)"
   ]
  },
  {
   "cell_type": "markdown",
   "id": "a0a40a2f",
   "metadata": {},
   "source": [
    "### Main loop"
   ]
  },
  {
   "cell_type": "code",
   "execution_count": 16,
   "id": "102c0834",
   "metadata": {
    "scrolled": true
   },
   "outputs": [],
   "source": [
    "df = pd.read_csv(path + 'CH2_final_evaluation.csv')"
   ]
  },
  {
   "cell_type": "code",
   "execution_count": 17,
   "id": "f60a9b8f",
   "metadata": {},
   "outputs": [
    {
     "data": {
      "text/html": [
       "<div>\n",
       "<style scoped>\n",
       "    .dataframe tbody tr th:only-of-type {\n",
       "        vertical-align: middle;\n",
       "    }\n",
       "\n",
       "    .dataframe tbody tr th {\n",
       "        vertical-align: top;\n",
       "    }\n",
       "\n",
       "    .dataframe thead th {\n",
       "        text-align: right;\n",
       "    }\n",
       "</style>\n",
       "<table border=\"1\" class=\"dataframe\">\n",
       "  <thead>\n",
       "    <tr style=\"text-align: right;\">\n",
       "      <th></th>\n",
       "      <th>frame_id</th>\n",
       "      <th>steering_angle</th>\n",
       "      <th>public</th>\n",
       "    </tr>\n",
       "  </thead>\n",
       "  <tbody>\n",
       "    <tr>\n",
       "      <th>0</th>\n",
       "      <td>1479425441182877835</td>\n",
       "      <td>-0.016928</td>\n",
       "      <td>0</td>\n",
       "    </tr>\n",
       "    <tr>\n",
       "      <th>1</th>\n",
       "      <td>1479425441232704425</td>\n",
       "      <td>-0.015708</td>\n",
       "      <td>0</td>\n",
       "    </tr>\n",
       "    <tr>\n",
       "      <th>2</th>\n",
       "      <td>1479425441282730750</td>\n",
       "      <td>-0.015708</td>\n",
       "      <td>0</td>\n",
       "    </tr>\n",
       "    <tr>\n",
       "      <th>3</th>\n",
       "      <td>1479425441332806714</td>\n",
       "      <td>-0.015708</td>\n",
       "      <td>1</td>\n",
       "    </tr>\n",
       "    <tr>\n",
       "      <th>4</th>\n",
       "      <td>1479425441382790272</td>\n",
       "      <td>-0.015708</td>\n",
       "      <td>0</td>\n",
       "    </tr>\n",
       "    <tr>\n",
       "      <th>...</th>\n",
       "      <td>...</td>\n",
       "      <td>...</td>\n",
       "      <td>...</td>\n",
       "    </tr>\n",
       "    <tr>\n",
       "      <th>5609</th>\n",
       "      <td>1479425721681585081</td>\n",
       "      <td>-0.089012</td>\n",
       "      <td>1</td>\n",
       "    </tr>\n",
       "    <tr>\n",
       "      <th>5610</th>\n",
       "      <td>1479425721731673391</td>\n",
       "      <td>-0.087266</td>\n",
       "      <td>0</td>\n",
       "    </tr>\n",
       "    <tr>\n",
       "      <th>5611</th>\n",
       "      <td>1479425721781662176</td>\n",
       "      <td>-0.088026</td>\n",
       "      <td>1</td>\n",
       "    </tr>\n",
       "    <tr>\n",
       "      <th>5612</th>\n",
       "      <td>1479425721831580656</td>\n",
       "      <td>-0.087266</td>\n",
       "      <td>1</td>\n",
       "    </tr>\n",
       "    <tr>\n",
       "      <th>5613</th>\n",
       "      <td>1479425721881751009</td>\n",
       "      <td>-0.087266</td>\n",
       "      <td>0</td>\n",
       "    </tr>\n",
       "  </tbody>\n",
       "</table>\n",
       "<p>5614 rows × 3 columns</p>\n",
       "</div>"
      ],
      "text/plain": [
       "                 frame_id  steering_angle  public\n",
       "0     1479425441182877835       -0.016928       0\n",
       "1     1479425441232704425       -0.015708       0\n",
       "2     1479425441282730750       -0.015708       0\n",
       "3     1479425441332806714       -0.015708       1\n",
       "4     1479425441382790272       -0.015708       0\n",
       "...                   ...             ...     ...\n",
       "5609  1479425721681585081       -0.089012       1\n",
       "5610  1479425721731673391       -0.087266       0\n",
       "5611  1479425721781662176       -0.088026       1\n",
       "5612  1479425721831580656       -0.087266       1\n",
       "5613  1479425721881751009       -0.087266       0\n",
       "\n",
       "[5614 rows x 3 columns]"
      ]
     },
     "execution_count": 17,
     "metadata": {},
     "output_type": "execute_result"
    }
   ],
   "source": [
    "df"
   ]
  },
  {
   "cell_type": "code",
   "execution_count": 18,
   "id": "4809ff82",
   "metadata": {
    "scrolled": true
   },
   "outputs": [
    {
     "data": {
      "text/plain": [
       "5614"
      ]
     },
     "execution_count": 18,
     "metadata": {},
     "output_type": "execute_result"
    }
   ],
   "source": [
    "files = list(df['frame_id'])\n",
    "len(files)"
   ]
  },
  {
   "cell_type": "code",
   "execution_count": 19,
   "id": "f8bfd1c1",
   "metadata": {},
   "outputs": [
    {
     "data": {
      "text/plain": [
       "5614"
      ]
     },
     "execution_count": 19,
     "metadata": {},
     "output_type": "execute_result"
    }
   ],
   "source": [
    "real_angles = list(df['steering_angle'])\n",
    "len(real_angles)"
   ]
  },
  {
   "cell_type": "code",
   "execution_count": 20,
   "id": "ca06a3bc",
   "metadata": {},
   "outputs": [],
   "source": [
    "df2 = pd.read_csv(path + 'rambo.csv')"
   ]
  },
  {
   "cell_type": "code",
   "execution_count": 21,
   "id": "da637a16",
   "metadata": {},
   "outputs": [
    {
     "data": {
      "text/html": [
       "<div>\n",
       "<style scoped>\n",
       "    .dataframe tbody tr th:only-of-type {\n",
       "        vertical-align: middle;\n",
       "    }\n",
       "\n",
       "    .dataframe tbody tr th {\n",
       "        vertical-align: top;\n",
       "    }\n",
       "\n",
       "    .dataframe thead th {\n",
       "        text-align: right;\n",
       "    }\n",
       "</style>\n",
       "<table border=\"1\" class=\"dataframe\">\n",
       "  <thead>\n",
       "    <tr style=\"text-align: right;\">\n",
       "      <th></th>\n",
       "      <th>frame_id</th>\n",
       "      <th>steering_angle</th>\n",
       "    </tr>\n",
       "  </thead>\n",
       "  <tbody>\n",
       "    <tr>\n",
       "      <th>0</th>\n",
       "      <td>1479425441182877835</td>\n",
       "      <td>-0.004179</td>\n",
       "    </tr>\n",
       "    <tr>\n",
       "      <th>1</th>\n",
       "      <td>1479425441232704425</td>\n",
       "      <td>-0.004179</td>\n",
       "    </tr>\n",
       "    <tr>\n",
       "      <th>2</th>\n",
       "      <td>1479425441282730750</td>\n",
       "      <td>-0.066690</td>\n",
       "    </tr>\n",
       "    <tr>\n",
       "      <th>3</th>\n",
       "      <td>1479425441332806714</td>\n",
       "      <td>-0.024831</td>\n",
       "    </tr>\n",
       "    <tr>\n",
       "      <th>4</th>\n",
       "      <td>1479425441382790272</td>\n",
       "      <td>-0.002446</td>\n",
       "    </tr>\n",
       "    <tr>\n",
       "      <th>...</th>\n",
       "      <td>...</td>\n",
       "      <td>...</td>\n",
       "    </tr>\n",
       "    <tr>\n",
       "      <th>5609</th>\n",
       "      <td>1479425721681585081</td>\n",
       "      <td>-0.068208</td>\n",
       "    </tr>\n",
       "    <tr>\n",
       "      <th>5610</th>\n",
       "      <td>1479425721731673391</td>\n",
       "      <td>-0.079429</td>\n",
       "    </tr>\n",
       "    <tr>\n",
       "      <th>5611</th>\n",
       "      <td>1479425721781662176</td>\n",
       "      <td>-0.128137</td>\n",
       "    </tr>\n",
       "    <tr>\n",
       "      <th>5612</th>\n",
       "      <td>1479425721831580656</td>\n",
       "      <td>-0.101860</td>\n",
       "    </tr>\n",
       "    <tr>\n",
       "      <th>5613</th>\n",
       "      <td>1479425721881751009</td>\n",
       "      <td>-0.077458</td>\n",
       "    </tr>\n",
       "  </tbody>\n",
       "</table>\n",
       "<p>5614 rows × 2 columns</p>\n",
       "</div>"
      ],
      "text/plain": [
       "                 frame_id  steering_angle\n",
       "0     1479425441182877835       -0.004179\n",
       "1     1479425441232704425       -0.004179\n",
       "2     1479425441282730750       -0.066690\n",
       "3     1479425441332806714       -0.024831\n",
       "4     1479425441382790272       -0.002446\n",
       "...                   ...             ...\n",
       "5609  1479425721681585081       -0.068208\n",
       "5610  1479425721731673391       -0.079429\n",
       "5611  1479425721781662176       -0.128137\n",
       "5612  1479425721831580656       -0.101860\n",
       "5613  1479425721881751009       -0.077458\n",
       "\n",
       "[5614 rows x 2 columns]"
      ]
     },
     "execution_count": 21,
     "metadata": {},
     "output_type": "execute_result"
    }
   ],
   "source": [
    "df2"
   ]
  },
  {
   "cell_type": "code",
   "execution_count": 22,
   "id": "fb98a80b",
   "metadata": {},
   "outputs": [
    {
     "data": {
      "text/plain": [
       "5614"
      ]
     },
     "execution_count": 22,
     "metadata": {},
     "output_type": "execute_result"
    }
   ],
   "source": [
    "predict_angles = list(df2['steering_angle'])\n",
    "len(predict_angles)"
   ]
  },
  {
   "cell_type": "code",
   "execution_count": 39,
   "id": "230591c4",
   "metadata": {},
   "outputs": [],
   "source": [
    "data = zip(files, real_angles, predict_angles)"
   ]
  },
  {
   "cell_type": "code",
   "execution_count": 40,
   "id": "f8342ee4",
   "metadata": {
    "scrolled": true
   },
   "outputs": [],
   "source": [
    "pygame.init()\n",
    "size = (320*2, 160*2)\n",
    "pygame.display.set_caption(\"Naji data viewer\")\n",
    "screen = pygame.display.set_mode(size, pygame.DOUBLEBUF)\n",
    "\n",
    "surface = pygame.surface.Surface((320,160),0,24).convert()"
   ]
  },
  {
   "cell_type": "code",
   "execution_count": 41,
   "id": "dee587eb",
   "metadata": {},
   "outputs": [],
   "source": [
    "running = True"
   ]
  },
  {
   "cell_type": "code",
   "execution_count": 42,
   "id": "51002ce5",
   "metadata": {},
   "outputs": [],
   "source": [
    "for file, real_angle, predict_angle in data:\n",
    "    \n",
    "    for event in pygame.event.get():\n",
    "        if event.type == pygame.QUIT:\n",
    "            running = False\n",
    "    \n",
    "    if running:      \n",
    "        np_img = cv2.imread(path + 'HMB_3_release/center/' + str(file) + '.jpg')\n",
    "        resized_img2 = cv2.resize(np_img, (int(np_img.shape[1]*0.5), int(np_img.shape[0]*0.335)) )\n",
    "\n",
    "        predicted_steers = random.randint(20,30)    \n",
    "        angle_steers = real_angle    \n",
    "        speed_ms = random.randint(25,30)\n",
    "\n",
    "        draw_path_on(resized_img2, speed_ms, -angle_steers/10.0, (0, 255, 0))\n",
    "        \n",
    "        draw_path_on(resized_img2, speed_ms, -predicted_steers/10.0, (255, 0, 0))\n",
    "\n",
    "        pygame.surfarray.blit_array(surface, resized_img2.swapaxes(0,1))\n",
    "        camera_surface_2x = pygame.transform.scale2x(surface)\n",
    "        screen.blit(camera_surface_2x, (0,0))    \n",
    "        pygame.display.flip()    \n",
    "        # pygame.time.Clock().tick(60)\n",
    "    \n",
    "    else:     \n",
    "        pygame.quit()\n",
    "        break\n"
   ]
  },
  {
   "cell_type": "code",
   "execution_count": null,
   "id": "e350692c",
   "metadata": {},
   "outputs": [],
   "source": []
  }
 ],
 "metadata": {
  "kernelspec": {
   "display_name": "Python 3",
   "language": "python",
   "name": "python3"
  },
  "language_info": {
   "codemirror_mode": {
    "name": "ipython",
    "version": 3
   },
   "file_extension": ".py",
   "mimetype": "text/x-python",
   "name": "python",
   "nbconvert_exporter": "python",
   "pygments_lexer": "ipython3",
   "version": "3.8.8"
  }
 },
 "nbformat": 4,
 "nbformat_minor": 5
}
